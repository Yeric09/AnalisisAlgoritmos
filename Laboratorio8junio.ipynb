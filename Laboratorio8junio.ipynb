{
  "nbformat": 4,
  "nbformat_minor": 0,
  "metadata": {
    "colab": {
      "name": "Laboratorio8junio.ipynb",
      "provenance": [],
      "authorship_tag": "ABX9TyPS7EY/Q1x/jryLwYUTJg75",
      "include_colab_link": true
    },
    "kernelspec": {
      "name": "python3",
      "display_name": "Python 3"
    },
    "language_info": {
      "name": "python"
    }
  },
  "cells": [
    {
      "cell_type": "markdown",
      "metadata": {
        "id": "view-in-github",
        "colab_type": "text"
      },
      "source": [
        "<a href=\"https://colab.research.google.com/github/Yeric09/AnalisisAlgoritmos/blob/main/Laboratorio8junio.ipynb\" target=\"_parent\"><img src=\"https://colab.research.google.com/assets/colab-badge.svg\" alt=\"Open In Colab\"/></a>"
      ]
    },
    {
      "cell_type": "markdown",
      "source": [
        "**Laboratorio Inicial del Uso de Colab**"
      ],
      "metadata": {
        "id": "IgGHU_6MBySD"
      }
    },
    {
      "cell_type": "markdown",
      "source": [
        "Luis Barquero Mata"
      ],
      "metadata": {
        "id": "Jy8xwP3pBsYN"
      }
    },
    {
      "cell_type": "code",
      "source": [
        "import pandas as pd"
      ],
      "metadata": {
        "id": "5T7DvaZaCF2N"
      },
      "execution_count": 3,
      "outputs": []
    },
    {
      "cell_type": "code",
      "source": [
        "from google.colab import auth\n",
        "auth.authenticate_user()\n",
        "\n",
        "import gspread\n",
        "from google.auth import default\n",
        "creds, _ = default()\n",
        "\n",
        "gc=gspread.authorize(creds)\n",
        "sh=gc.create('Luis Barquero Mata')"
      ],
      "metadata": {
        "id": "_5Iivp50CQ0e"
      },
      "execution_count": 8,
      "outputs": []
    },
    {
      "cell_type": "code",
      "source": [
        "from gspread.models import Worksheet\n",
        "worksheet = gc.open('Luis Barquero Mata').sheet1\n",
        "cell_list = worksheet.range('A1:G14')\n",
        "\n",
        "import random\n",
        "for cell in cell_list:\n",
        "  cell.value = random.randint(1,10)\n",
        "\n",
        "worksheet.update_cells(cell_list)"
      ],
      "metadata": {
        "colab": {
          "base_uri": "https://localhost:8080/"
        },
        "id": "RxgBgxd-Ernq",
        "outputId": "81d61b8b-41b0-4656-e16a-7d3dd266b520"
      },
      "execution_count": 10,
      "outputs": [
        {
          "output_type": "execute_result",
          "data": {
            "text/plain": [
              "{'spreadsheetId': '1cf-qgLwmpNvOLiTH5sjgivLxjL-d2Ix9P_BTTkxnE58',\n",
              " 'updatedCells': 98,\n",
              " 'updatedColumns': 7,\n",
              " 'updatedRange': \"'Hoja 1'!A1:G14\",\n",
              " 'updatedRows': 14}"
            ]
          },
          "metadata": {},
          "execution_count": 10
        }
      ]
    },
    {
      "cell_type": "code",
      "source": [
        "worksheet = gc.open('Luis Barquero Mata').sheet1\n",
        "rows = worksheet.get_all_values()\n",
        "print(rows)"
      ],
      "metadata": {
        "colab": {
          "base_uri": "https://localhost:8080/"
        },
        "id": "rA8tDtM5H5Pl",
        "outputId": "ef69603c-1670-4bc0-9339-2aa458041fb6"
      },
      "execution_count": 11,
      "outputs": [
        {
          "output_type": "stream",
          "name": "stdout",
          "text": [
            "[['6', '10', '5', '9', '2', '4', '6'], ['8', '2', '2', '10', '8', '3', '3'], ['10', '10', '10', '2', '7', '2', '1'], ['7', '3', '5', '8', '8', '10', '1'], ['1', '7', '2', '7', '10', '10', '8'], ['1', '5', '4', '7', '2', '2', '6'], ['6', '3', '10', '5', '7', '8', '3'], ['1', '5', '4', '2', '3', '3', '7'], ['3', '8', '5', '1', '4', '5', '2'], ['1', '8', '5', '5', '4', '9', '6'], ['2', '5', '10', '10', '9', '9', '3'], ['3', '5', '6', '4', '2', '3', '2'], ['8', '7', '5', '6', '6', '6', '2'], ['10', '10', '10', '5', '7', '5', '10']]\n"
          ]
        }
      ]
    }
  ]
}